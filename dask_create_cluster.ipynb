{
 "cells": [
  {
   "cell_type": "markdown",
   "metadata": {},
   "source": [
    "### Create a dask cluster for our demostration of query data from snowflake in parallel"
   ]
  },
  {
   "cell_type": "markdown",
   "metadata": {},
   "source": [
    "#### Set up project"
   ]
  },
  {
   "cell_type": "code",
   "execution_count": 1,
   "metadata": {},
   "outputs": [
    {
     "name": "stdout",
     "output_type": "stream",
     "text": [
      "> 2022-05-17 17:03:21,416 [info] created and saved project snowflake-dask\n"
     ]
    },
    {
     "data": {
      "text/plain": [
       "('snowflake-dask', 'v3io://projects/snowflake-dask/artifacts')"
      ]
     },
     "execution_count": 1,
     "metadata": {},
     "output_type": "execute_result"
    }
   ],
   "source": [
    "import mlrun\n",
    "import warnings\n",
    "warnings.filterwarnings(\"ignore\")\n",
    "\n",
    "project_name = \"snowflake-dask\"\n",
    "dask_cluster_name=\"snowflake-dask-cluster\"\n",
    "mlrun.set_environment(project=project_name, artifact_path=\"v3io://projects/snowflake-dask/artifacts\")"
   ]
  },
  {
   "cell_type": "code",
   "execution_count": 2,
   "metadata": {},
   "outputs": [],
   "source": [
    "image='.xingsheng/snowflakedask'"
   ]
  },
  {
   "cell_type": "markdown",
   "metadata": {},
   "source": [
    "#### Build an image with snowflake-connector-python, the dc.deploy() will only need to run once in an Iguazio cluster"
   ]
  },
  {
   "cell_type": "code",
   "execution_count": 3,
   "metadata": {},
   "outputs": [],
   "source": [
    "dc = mlrun.new_function(dask_cluster_name, \n",
    "                        kind=\"dask\", \n",
    "                        image=\"mlrun/ml-models\", \n",
    "                        requirements=[\"bokeh\", \"snowflake-connector-python[pandas]\"])\n",
    "dc.apply(mlrun.mount_v3io())\n",
    "dc.spec.build.image = image"
   ]
  },
  {
   "cell_type": "code",
   "execution_count": 4,
   "metadata": {},
   "outputs": [],
   "source": [
    "# print(dc.to_yaml())"
   ]
  },
  {
   "cell_type": "code",
   "execution_count": 5,
   "metadata": {},
   "outputs": [
    {
     "name": "stdout",
     "output_type": "stream",
     "text": [
      "> 2022-05-17 17:03:41,665 [info] Started building image: .xingsheng/snowflakedask\n",
      "\u001b[36mINFO\u001b[0m[0000] Retrieving image manifest mlrun/ml-models:1.0.0 \n",
      "\u001b[36mINFO\u001b[0m[0000] Retrieving image mlrun/ml-models:1.0.0 from registry index.docker.io \n",
      "\u001b[36mINFO\u001b[0m[0000] Built cross stage deps: map[]                \n",
      "\u001b[36mINFO\u001b[0m[0000] Retrieving image manifest mlrun/ml-models:1.0.0 \n",
      "\u001b[36mINFO\u001b[0m[0000] Returning cached image manifest              \n",
      "\u001b[36mINFO\u001b[0m[0000] Executing 0 build triggers                   \n",
      "\u001b[36mINFO\u001b[0m[0000] Unpacking rootfs as cmd RUN python -m pip install bokeh snowflake-connector-python[pandas] requires it. \n",
      "\u001b[36mINFO\u001b[0m[0068] RUN python -m pip install bokeh snowflake-connector-python[pandas] \n",
      "\u001b[36mINFO\u001b[0m[0068] Taking snapshot of full filesystem...        \n",
      "\u001b[36mINFO\u001b[0m[0101] cmd: /bin/sh                                 \n",
      "\u001b[36mINFO\u001b[0m[0101] args: [-c python -m pip install bokeh snowflake-connector-python[pandas]] \n",
      "\u001b[36mINFO\u001b[0m[0101] Running: [/bin/sh -c python -m pip install bokeh snowflake-connector-python[pandas]] \n",
      "Requirement already satisfied: bokeh in /opt/conda/lib/python3.7/site-packages (2.4.2)\n",
      "Collecting snowflake-connector-python[pandas]\n",
      "  Downloading snowflake_connector_python-2.7.7-cp37-cp37m-manylinux_2_12_x86_64.manylinux2010_x86_64.manylinux_2_17_x86_64.manylinux2014_x86_64.whl (16.5 MB)\n",
      "     ━━━━━━━━━━━━━━━━━━━━━━━━━━━━━━━━━━━━━━━ 16.5/16.5 MB 139.8 MB/s eta 0:00:00\n",
      "Requirement already satisfied: tornado>=5.1 in /opt/conda/lib/python3.7/site-packages (from bokeh) (6.1)\n",
      "Requirement already satisfied: packaging>=16.8 in /opt/conda/lib/python3.7/site-packages (from bokeh) (21.3)\n",
      "Requirement already satisfied: numpy>=1.11.3 in /opt/conda/lib/python3.7/site-packages (from bokeh) (1.19.5)\n",
      "Requirement already satisfied: pillow>=7.1.0 in /opt/conda/lib/python3.7/site-packages (from bokeh) (9.1.0)\n",
      "Collecting typing-extensions>=3.10.0\n",
      "  Downloading typing_extensions-4.2.0-py3-none-any.whl (24 kB)\n",
      "Requirement already satisfied: PyYAML>=3.10 in /opt/conda/lib/python3.7/site-packages (from bokeh) (5.4.1)\n",
      "Requirement already satisfied: Jinja2>=2.9 in /opt/conda/lib/python3.7/site-packages (from bokeh) (3.0.3)\n",
      "Collecting asn1crypto<2.0.0,>0.24.0\n",
      "  Downloading asn1crypto-1.5.1-py2.py3-none-any.whl (105 kB)\n",
      "     ━━━━━━━━━━━━━━━━━━━━━━━━━━━━━━━━━━━━━ 105.0/105.0 KB 241.6 MB/s eta 0:00:00\n",
      "Requirement already satisfied: pyOpenSSL<22.0.0,>=16.2.0 in /opt/conda/lib/python3.7/site-packages (from snowflake-connector-python[pandas]) (21.0.0)\n",
      "Requirement already satisfied: pytz in /opt/conda/lib/python3.7/site-packages (from snowflake-connector-python[pandas]) (2022.1)\n",
      "Requirement already satisfied: certifi>=2017.4.17 in /opt/conda/lib/python3.7/site-packages (from snowflake-connector-python[pandas]) (2021.10.8)\n",
      "Collecting pycryptodomex!=3.5.0,<4.0.0,>=3.2\n",
      "  Downloading pycryptodomex-3.14.1-cp35-abi3-manylinux2010_x86_64.whl (2.0 MB)\n",
      "     ━━━━━━━━━━━━━━━━━━━━━━━━━━━━━━━━━━━━━━━━ 2.0/2.0 MB 173.1 MB/s eta 0:00:00\n",
      "Requirement already satisfied: setuptools>34.0.0 in /opt/conda/lib/python3.7/site-packages (from snowflake-connector-python[pandas]) (62.1.0)\n",
      "Collecting oscrypto<2.0.0\n",
      "  Downloading oscrypto-1.3.0-py2.py3-none-any.whl (194 kB)\n",
      "     ━━━━━━━━━━━━━━━━━━━━━━━━━━━━━━━━━━━━━ 194.6/194.6 KB 107.8 MB/s eta 0:00:00\n",
      "Requirement already satisfied: requests<3.0.0 in /opt/conda/lib/python3.7/site-packages (from snowflake-connector-python[pandas]) (2.27.1)\n",
      "Requirement already satisfied: pyjwt<3.0.0 in /opt/conda/lib/python3.7/site-packages (from snowflake-connector-python[pandas]) (2.3.0)\n",
      "Requirement already satisfied: idna<4,>=2.5 in /opt/conda/lib/python3.7/site-packages (from snowflake-connector-python[pandas]) (3.3)\n",
      "Requirement already satisfied: cryptography<37.0.0,>=3.1.0 in /opt/conda/lib/python3.7/site-packages (from snowflake-connector-python[pandas]) (3.3.2)\n",
      "Requirement already satisfied: charset-normalizer~=2.0.0 in /opt/conda/lib/python3.7/site-packages (from snowflake-connector-python[pandas]) (2.0.4)\n",
      "Requirement already satisfied: cffi<2.0.0,>=1.9 in /opt/conda/lib/python3.7/site-packages (from snowflake-connector-python[pandas]) (1.15.0)\n",
      "Collecting pyarrow<6.1.0,>=6.0.0\n",
      "  Downloading pyarrow-6.0.1-cp37-cp37m-manylinux_2_17_x86_64.manylinux2014_x86_64.whl (25.6 MB)\n",
      "     ━━━━━━━━━━━━━━━━━━━━━━━━━━━━━━━━━━━━━━━ 25.6/25.6 MB 170.9 MB/s eta 0:00:00\n",
      "Requirement already satisfied: pandas<1.5.0,>=1.0.0 in /opt/conda/lib/python3.7/site-packages (from snowflake-connector-python[pandas]) (1.3.5)\n",
      "Requirement already satisfied: pycparser in /opt/conda/lib/python3.7/site-packages (from cffi<2.0.0,>=1.9->snowflake-connector-python[pandas]) (2.21)\n",
      "Requirement already satisfied: six>=1.4.1 in /opt/conda/lib/python3.7/site-packages (from cryptography<37.0.0,>=3.1.0->snowflake-connector-python[pandas]) (1.15.0)\n",
      "Requirement already satisfied: MarkupSafe>=2.0 in /opt/conda/lib/python3.7/site-packages (from Jinja2>=2.9->bokeh) (2.1.1)\n",
      "Requirement already satisfied: pyparsing!=3.0.5,>=2.0.2 in /opt/conda/lib/python3.7/site-packages (from packaging>=16.8->bokeh) (3.0.8)\n",
      "Requirement already satisfied: python-dateutil>=2.7.3 in /opt/conda/lib/python3.7/site-packages (from pandas<1.5.0,>=1.0.0->snowflake-connector-python[pandas]) (2.8.2)\n",
      "Requirement already satisfied: urllib3<1.27,>=1.21.1 in /opt/conda/lib/python3.7/site-packages (from requests<3.0.0->snowflake-connector-python[pandas]) (1.26.7)\n",
      "Installing collected packages: asn1crypto, typing-extensions, pycryptodomex, pyarrow, oscrypto, snowflake-connector-python\n",
      "  Attempting uninstall: typing-extensions\n",
      "    Found existing installation: typing-extensions 3.7.4.3\n",
      "    Uninstalling typing-extensions-3.7.4.3:\n",
      "      Successfully uninstalled typing-extensions-3.7.4.3\n",
      "  Attempting uninstall: pyarrow\n",
      "    Found existing installation: pyarrow 5.0.0\n",
      "    Uninstalling pyarrow-5.0.0:\n",
      "      Successfully uninstalled pyarrow-5.0.0\n",
      "ERROR: pip's dependency resolver does not currently take into account all the packages that are installed. This behaviour is the source of the following dependency conflicts.\n",
      "tensorflow 2.4.4 requires grpcio~=1.32.0, but you have grpcio 1.41.1 which is incompatible.\n",
      "tensorflow 2.4.4 requires typing-extensions~=3.7.4, but you have typing-extensions 4.2.0 which is incompatible.\n",
      "storey 1.0.3 requires pyarrow<6,>=1, but you have pyarrow 6.0.1 which is incompatible.\n",
      "mlrun 1.0.0 requires pyarrow<6,>=1, but you have pyarrow 6.0.1 which is incompatible.\n",
      "kfp 1.8.12 requires typing-extensions<4,>=3.7.4; python_version < \"3.9\", but you have typing-extensions 4.2.0 which is incompatible.\n",
      "Successfully installed asn1crypto-1.5.1 oscrypto-1.3.0 pyarrow-6.0.1 pycryptodomex-3.14.1 snowflake-connector-python-2.7.7 typing-extensions-4.2.0\n",
      "WARNING: Running pip as the 'root' user can result in broken permissions and conflicting behaviour with the system package manager. It is recommended to use a virtual environment instead: https://pip.pypa.io/warnings/venv\n",
      "\u001b[36mINFO\u001b[0m[0108] Taking snapshot of full filesystem...        \n",
      "\u001b[36mINFO\u001b[0m[0114] Pushing image to docker-registry.default-tenant.app.us-sales-341.iguazio-cd1.com:80/xingsheng/snowflakedask \n",
      "\u001b[36mINFO\u001b[0m[0136] Pushed image to 1 destinations               \n",
      "\n"
     ]
    },
    {
     "data": {
      "text/plain": [
       "True"
      ]
     },
     "execution_count": 5,
     "metadata": {},
     "output_type": "execute_result"
    }
   ],
   "source": [
    "dc.deploy(with_mlrun=False) #run once for a cluster to build the image"
   ]
  },
  {
   "cell_type": "markdown",
   "metadata": {},
   "source": [
    "#### Set up adpative scaling dask cluster\n",
    "In this case, we are setting up an adaptive cluster wit minimum 1 worker and maximum to 10 workers"
   ]
  },
  {
   "cell_type": "code",
   "execution_count": 6,
   "metadata": {},
   "outputs": [],
   "source": [
    "dc.spec.min_replicas = 1\n",
    "dc.spec.max_replicas = 10\n",
    "dc.spec.remote = True\n",
    "dc.spec.service_type = \"NodePort\"\n",
    "dc.with_requests(mem=\"4G\", cpu=\"2\")\n",
    "dc.spec.scheduler_timeout = \"5 days\"\n",
    "dc.spec.node_port=30066\n",
    "dc.spec.image = image"
   ]
  },
  {
   "cell_type": "code",
   "execution_count": 7,
   "metadata": {},
   "outputs": [
    {
     "name": "stdout",
     "output_type": "stream",
     "text": [
      "> 2022-05-17 17:10:23,405 [info] trying dask client at: tcp://mlrun-snowflake-dask-cluster-14563d22-6.default-tenant:8786\n",
      "> 2022-05-17 17:10:23,428 [info] using remote dask scheduler (mlrun-snowflake-dask-cluster-14563d22-6) at: tcp://mlrun-snowflake-dask-cluster-14563d22-6.default-tenant:8786\n"
     ]
    },
    {
     "data": {
      "text/html": [
       "<a href=\"http://default-tenant.app.us-sales-341.iguazio-cd1.com:30066/status\" target=\"_blank\" >dashboard link: default-tenant.app.us-sales-341.iguazio-cd1.com:30066</a>"
      ],
      "text/plain": [
       "<IPython.core.display.HTML object>"
      ]
     },
     "metadata": {},
     "output_type": "display_data"
    }
   ],
   "source": [
    "client = dc.client"
   ]
  },
  {
   "cell_type": "code",
   "execution_count": null,
   "metadata": {},
   "outputs": [],
   "source": [
    "print(client)"
   ]
  }
 ],
 "metadata": {
  "kernelspec": {
   "display_name": "Python [conda env:root] *",
   "language": "python",
   "name": "conda-root-py"
  },
  "language_info": {
   "codemirror_mode": {
    "name": "ipython",
    "version": 3
   },
   "file_extension": ".py",
   "mimetype": "text/x-python",
   "name": "python",
   "nbconvert_exporter": "python",
   "pygments_lexer": "ipython3",
   "version": "3.7.6"
  }
 },
 "nbformat": 4,
 "nbformat_minor": 4
}
