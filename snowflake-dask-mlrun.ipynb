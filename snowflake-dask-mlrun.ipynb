{
 "cells": [
  {
   "cell_type": "markdown",
   "metadata": {},
   "source": [
    "# Running Dask on the cluster with mlrun"
   ]
  },
  {
   "cell_type": "markdown",
   "metadata": {},
   "source": [
    "The dask frameworks enables users to parallelize their python code and run it as a distributed process on Iguazio cluster and dramatically accelerate their performance. <br>\n",
    "In this notebook you'll create an mlrun function running as a dask client. <br>\n",
    "It also demonstrates how to run parallelize query against snowflake using Dask Delayed option to query a large data set from snowflake \n",
    "\n",
    "For more information on dask over kubernetes: https://kubernetes.dask.org/en/latest/"
   ]
  },
  {
   "cell_type": "markdown",
   "metadata": {},
   "source": [
    "### Set up the enviroment"
   ]
  },
  {
   "cell_type": "code",
   "execution_count": 1,
   "metadata": {},
   "outputs": [
    {
     "name": "stdout",
     "output_type": "stream",
     "text": [
      "> 2022-03-10 19:31:17,431 [info] loaded project snowflake-dask from MLRun DB\n",
      "artifact_path = ('snowflake-dask', '/v3io/projects/snowflake-dask')\n"
     ]
    }
   ],
   "source": [
    "import mlrun\n",
    "import os\n",
    "import warnings\n",
    "import yaml\n",
    "\n",
    "project_name = \"snowflake-dask\"\n",
    "dask_cluster_name=\"snowflake-dask-cluster\"\n",
    "artifact_path = mlrun.set_environment(project=project_name,\n",
    "                                      artifact_path = os.path.join(os.path.abspath('/v3io/projects/'), project_name))\n",
    "\n",
    "warnings.filterwarnings(\"ignore\")\n",
    "print(f'artifact_path = {artifact_path}')"
   ]
  },
  {
   "cell_type": "markdown",
   "metadata": {},
   "source": [
    "### Load snowflake configuration from config file. \n",
    "This is for demo purpose, in the real production code, you would need to put the snowflake connection info into secrets use the secrets in the running pod to connect to snowflake"
   ]
  },
  {
   "cell_type": "code",
   "execution_count": 2,
   "metadata": {},
   "outputs": [
    {
     "name": "stdout",
     "output_type": "stream",
     "text": [
      "nf77378.eu-west-2.aws\n"
     ]
    }
   ],
   "source": [
    "# Load connection info\n",
    "with open(\"config.yaml\") as f:\n",
    "    connection_info = yaml.safe_load(f)\n",
    "\n",
    "# verify the config\n",
    "print(connection_info['account'])\n",
    "mlrun.get_run_db().create_project_secrets(\n",
    "    project_name,\n",
    "    provider=mlrun.api.schemas.SecretProviderName.kubernetes,\n",
    "    secrets=connection_info\n",
    ")"
   ]
  },
  {
   "cell_type": "markdown",
   "metadata": {},
   "source": [
    "### Create a python function"
   ]
  },
  {
   "cell_type": "markdown",
   "metadata": {},
   "source": [
    "This function querys data from snowflake using snowflake python connector for parallel processing of the query results. <br>\n",
    "With snoeflake python connector, when you execute a query, the cursor will return the result batches. <br>\n",
    "Using Dask Delayed it will return and process results set in parallel. <br>"
   ]
  },
  {
   "cell_type": "markdown",
   "metadata": {},
   "source": [
    "#### write the function to a py file"
   ]
  },
  {
   "cell_type": "code",
   "execution_count": 3,
   "metadata": {},
   "outputs": [
    {
     "name": "stdout",
     "output_type": "stream",
     "text": [
      "Overwriting snowflake-dask.py\n"
     ]
    }
   ],
   "source": [
    "%%writefile snowflake-dask.py\n",
    "import mlrun\n",
    "from mlrun.execution import MLClientCtx\n",
    "from mlrun.datastore import DataItem\n",
    "import snowflake.connector as snow\n",
    "import os\n",
    "import numpy as np\n",
    "from dask.distributed import Client\n",
    "from dask.dataframe import from_delayed\n",
    "from dask import delayed\n",
    "from dask import dataframe as dd\n",
    "\n",
    "import warnings\n",
    "warnings.filterwarnings(\"ignore\")\n",
    "    \n",
    "@delayed\n",
    "def load(batch):\n",
    "    try:\n",
    "        print(\"BATCHING\")\n",
    "        df_ = batch.to_pandas()\n",
    "        return df_\n",
    "    except Exception as e:\n",
    "        print(f\"Failed on {batch} for {e}\")\n",
    "        pass\n",
    "\n",
    "def load_delayed(dask_client, connection_info, query, out_dir, write_out=False, publish=False):        \n",
    "    context = mlrun.get_or_create_ctx('dask-cluster')  \n",
    "    sfAccount = context.get_secret('account')\n",
    "    context.log_result('sfAccount', sfAccount)\n",
    "    context.logger.info(f'sfAccount = {sfAccount}')\n",
    "    # setup dask client from the MLRun dask cluster function\n",
    "    if dask_client:\n",
    "        client = mlrun.import_function(dask_client).client\n",
    "        context.logger.info(f'Existing dask client === >>> {client}\\n')\n",
    "    else:\n",
    "        client = Client()\n",
    "        context.logger.info(f'\\nNewly created dask client === >>> {client}\\n')\n",
    "        \n",
    "    query = query\n",
    "\n",
    "    conn = snow.connect(**connection_info)\n",
    "    cur = conn.cursor()\n",
    "    cur.execute(query)\n",
    "    batches = cur.get_result_batches()\n",
    "    print(f'batches len === {len(batches)}\\n')\n",
    "    \n",
    "    dfs = []    \n",
    "    for batch in batches:\n",
    "        if batch.rowcount > 0:\n",
    "            df = load(batch)\n",
    "            dfs.append(df)        \n",
    "    ddf = from_delayed(dfs)\n",
    "    \n",
    "    # materialize the query results set for some sample compute\n",
    "    \n",
    "    ddf_sum = ddf.sum().compute()\n",
    "    ddf_mean = ddf.mean().compute()\n",
    "    ddf_describe = ddf.describe().compute()\n",
    "    ddf_grpby = ddf.groupby(\"C_CUSTKEY\").count().compute()\n",
    "    \n",
    "    context.logger.info(f'sum === >>> {ddf_sum}\\n')\n",
    "    context.logger.info(f'mean === >>> {ddf_mean}\\n')\n",
    "    context.logger.info(f'ddf head === >>> {ddf.head()}\\n')\n",
    "    context.logger.info(f'ddf  === >>> {ddf}\\n')\n",
    "\n",
    "    context.log_result('number of rows', len(ddf.index))   \n",
    "    \n",
    "    context.log_dataset('dask_data_frame', ddf)\n",
    "    context.log_dataset(\"my_df_describe\", df=ddf_describe)\n",
    "    context.log_dataset(\"my_df_grpby\",    df=ddf_grpby)\n",
    "    \n",
    "    ddf.persist(name = 'customer')\n",
    "    if publish and (not client.list_datasets()):    \n",
    "        client.publish_dataset(customer=ddf)\n",
    "        \n",
    "    if write_out:\n",
    "        dd.to_parquet(df=ddf, path=out_dir)\n",
    "        context.log_result('parquet', out_dir)"
   ]
  },
  {
   "cell_type": "markdown",
   "metadata": {},
   "source": [
    "### Convert the code to MLRun function"
   ]
  },
  {
   "cell_type": "markdown",
   "metadata": {},
   "source": [
    "Use code_to_function to convert the code to MLRun and specify the configuration for the dask process (e.g. replicas, memory etc) <br>\n",
    "Note that the resource configurations are per worker"
   ]
  },
  {
   "cell_type": "code",
   "execution_count": 4,
   "metadata": {},
   "outputs": [],
   "source": [
    "image='.mlrun/snowflakedask'"
   ]
  },
  {
   "cell_type": "code",
   "execution_count": 5,
   "metadata": {},
   "outputs": [],
   "source": [
    "fn = mlrun.code_to_function(\"snowflake-dask-mlrun\",  \n",
    "                            kind='job', \n",
    "                            filename='snowflake-dask.py',\n",
    "                            image=image,\n",
    "                            handler=\"load_delayed\").apply(mlrun.platforms.auto_mount())"
   ]
  },
  {
   "cell_type": "markdown",
   "metadata": {},
   "source": [
    "### Get dask client uri"
   ]
  },
  {
   "cell_type": "code",
   "execution_count": 6,
   "metadata": {},
   "outputs": [
    {
     "data": {
      "text/plain": [
       "'db://snowflake-dask/snowflake-dask-cluster'"
      ]
     },
     "execution_count": 6,
     "metadata": {},
     "output_type": "execute_result"
    }
   ],
   "source": [
    "# function URI is db://<project>/<name>\n",
    "dask_uri = f'db://{project_name}/{dask_cluster_name}'\n",
    "dask_uri"
   ]
  },
  {
   "cell_type": "markdown",
   "metadata": {},
   "source": [
    "### Run the function"
   ]
  },
  {
   "cell_type": "markdown",
   "metadata": {},
   "source": [
    "When running the function you would see a remote dashboard link as part of the result. click on this link takes you to the dask monitoring dashboard"
   ]
  },
  {
   "cell_type": "code",
   "execution_count": 7,
   "metadata": {},
   "outputs": [
    {
     "name": "stdout",
     "output_type": "stream",
     "text": [
      "> 2022-03-10 19:31:29,094 [info] starting run snowflake-dask-mlrun-load_delayed uid=7919bc3027e44f6c8794029c945eda57 DB=http://mlrun-api:8080\n",
      "> 2022-03-10 19:31:29,271 [info] Job is running in the background, pod: snowflake-dask-mlrun-load-delayed-6554g\n",
      "> 2022-03-10 19:31:36,289 [info] sfAccount = nf77378.eu-west-2.aws\n",
      "> 2022-03-10 19:31:36,730 [info] trying dask client at: tcp://mlrun-snowflake-dask-cluster-1d25cde8-8.default-tenant:8786\n",
      "> 2022-03-10 19:31:36,738 [info] using remote dask scheduler (mlrun-snowflake-dask-cluster-1d25cde8-8) at: tcp://mlrun-snowflake-dask-cluster-1d25cde8-8.default-tenant:8786\n",
      "remote dashboard: default-tenant.app.us-sales-322.iguazio-cd1.com:30066\n",
      "> 2022-03-10 19:31:36,738 [info] Existing dask client === >>> <Client: 'tcp://172.31.1.12:8786' processes=1 threads=1, memory=3.88 GiB>\n",
      "\n",
      "batches len === 4\n",
      "\n",
      "> 2022-03-10 19:31:50,522 [info] sum === >>> C_CUSTKEY                                             13603998844\n",
      "C_NAME          Customer#004750001Customer#004750002Customer#0...\n",
      "C_ADDRESS       zVoZuiRO0ilfLKiFO5AVbcZnyXvIc5DLt9khv8y12s2uFw...\n",
      "C_NATIONKEY                                                 36135\n",
      "C_PHONE         19-314-930-168625-310-638-447021-623-871-17181...\n",
      "C_ACCTBAL                                             13039551.81\n",
      "C_MKTSEGMENT    HOUSEHOLDFURNITUREBUILDINGAUTOMOBILEFURNITUREM...\n",
      "C_COMMENT        epitaphs alongside of the carefully unusual h...\n",
      "dtype: object\n",
      "\n",
      "> 2022-03-10 19:31:50,523 [info] mean === >>> C_CUSTKEY      4.534666e+06\n",
      "C_NATIONKEY    1.204500e+01\n",
      "C_ACCTBAL      4.346517e+03\n",
      "dtype: float64\n",
      "\n",
      "> 2022-03-10 19:31:50,562 [info] ddf head === >>>    C_CUSTKEY  ...                                          C_COMMENT\n",
      "0    4750001  ...   epitaphs alongside of the carefully unusual h...\n",
      "1    4750002  ...  n theodolites. special deposits wake about the...\n",
      "2    4750003  ...  ronic frets. ironic deposits mold. express pac...\n",
      "3    4750004  ...  ounts against the regular dolphins wake carefu...\n",
      "4    4750005  ...  furiously final deposits. instructions are alo...\n",
      "\n",
      "[5 rows x 8 columns]\n",
      "\n",
      "> 2022-03-10 19:31:50,566 [info] ddf  === >>> Dask DataFrame Structure:\n",
      "              C_CUSTKEY  C_NAME C_ADDRESS C_NATIONKEY C_PHONE C_ACCTBAL C_MKTSEGMENT C_COMMENT\n",
      "npartitions=4                                                                                 \n",
      "                  int32  object    object        int8  object   float64       object    object\n",
      "                    ...     ...       ...         ...     ...       ...          ...       ...\n",
      "                    ...     ...       ...         ...     ...       ...          ...       ...\n",
      "                    ...     ...       ...         ...     ...       ...          ...       ...\n",
      "                    ...     ...       ...         ...     ...       ...          ...       ...\n",
      "Dask Name: from-delayed, 8 tasks\n",
      "\n",
      "> 2022-03-10 19:31:59,873 [info] run executed, status=completed\n",
      "final state: completed\n"
     ]
    },
    {
     "data": {
      "text/html": [
       "<style>\n",
       ".dictlist {\n",
       "  background-color: #4EC64B;\n",
       "  text-align: center;\n",
       "  margin: 4px;\n",
       "  border-radius: 3px; padding: 0px 3px 1px 3px; display: inline-block;}\n",
       ".artifact {\n",
       "  cursor: pointer;\n",
       "  background-color: #4EC64B;\n",
       "  text-align: left;\n",
       "  margin: 4px; border-radius: 3px; padding: 0px 3px 1px 3px; display: inline-block;\n",
       "}\n",
       "div.block.hidden {\n",
       "  display: none;\n",
       "}\n",
       ".clickable {\n",
       "  cursor: pointer;\n",
       "}\n",
       ".ellipsis {\n",
       "  display: inline-block;\n",
       "  max-width: 60px;\n",
       "  white-space: nowrap;\n",
       "  overflow: hidden;\n",
       "  text-overflow: ellipsis;\n",
       "}\n",
       ".master-wrapper {\n",
       "  display: flex;\n",
       "  flex-flow: row nowrap;\n",
       "  justify-content: flex-start;\n",
       "  align-items: stretch;\n",
       "}\n",
       ".master-tbl {\n",
       "  flex: 3\n",
       "}\n",
       ".master-wrapper > div {\n",
       "  margin: 4px;\n",
       "  padding: 10px;\n",
       "}\n",
       "iframe.fileview {\n",
       "  border: 0 none;\n",
       "  height: 100%;\n",
       "  width: 100%;\n",
       "  white-space: pre-wrap;\n",
       "}\n",
       ".pane-header-title {\n",
       "  width: 80%;\n",
       "  font-weight: 500;\n",
       "}\n",
       ".pane-header {\n",
       "  line-height: 1;\n",
       "  background-color: #4EC64B;\n",
       "  padding: 3px;\n",
       "}\n",
       ".pane-header .close {\n",
       "  font-size: 20px;\n",
       "  font-weight: 700;\n",
       "  float: right;\n",
       "  margin-top: -5px;\n",
       "}\n",
       ".master-wrapper .right-pane {\n",
       "  border: 1px inset silver;\n",
       "  width: 40%;\n",
       "  min-height: 300px;\n",
       "  flex: 3\n",
       "  min-width: 500px;\n",
       "}\n",
       ".master-wrapper * {\n",
       "  box-sizing: border-box;\n",
       "}\n",
       "</style><script>\n",
       "function copyToClipboard(fld) {\n",
       "    if (document.queryCommandSupported && document.queryCommandSupported('copy')) {\n",
       "        var textarea = document.createElement('textarea');\n",
       "        textarea.textContent = fld.innerHTML;\n",
       "        textarea.style.position = 'fixed';\n",
       "        document.body.appendChild(textarea);\n",
       "        textarea.select();\n",
       "\n",
       "        try {\n",
       "            return document.execCommand('copy'); // Security exception may be thrown by some browsers.\n",
       "        } catch (ex) {\n",
       "\n",
       "        } finally {\n",
       "            document.body.removeChild(textarea);\n",
       "        }\n",
       "    }\n",
       "}\n",
       "function expandPanel(el) {\n",
       "  const panelName = \"#\" + el.getAttribute('paneName');\n",
       "  console.log(el.title);\n",
       "\n",
       "  document.querySelector(panelName + \"-title\").innerHTML = el.title\n",
       "  iframe = document.querySelector(panelName + \"-body\");\n",
       "\n",
       "  const tblcss = `<style> body { font-family: Arial, Helvetica, sans-serif;}\n",
       "    #csv { margin-bottom: 15px; }\n",
       "    #csv table { border-collapse: collapse;}\n",
       "    #csv table td { padding: 4px 8px; border: 1px solid silver;} </style>`;\n",
       "\n",
       "  function csvToHtmlTable(str) {\n",
       "    return '<div id=\"csv\"><table><tr><td>' +  str.replace(/[\\n\\r]+$/g, '').replace(/[\\n\\r]+/g, '</td></tr><tr><td>')\n",
       "      .replace(/,/g, '</td><td>') + '</td></tr></table></div>';\n",
       "  }\n",
       "\n",
       "  function reqListener () {\n",
       "    if (el.title.endsWith(\".csv\")) {\n",
       "      iframe.setAttribute(\"srcdoc\", tblcss + csvToHtmlTable(this.responseText));\n",
       "    } else {\n",
       "      iframe.setAttribute(\"srcdoc\", this.responseText);\n",
       "    }\n",
       "    console.log(this.responseText);\n",
       "  }\n",
       "\n",
       "  const oReq = new XMLHttpRequest();\n",
       "  oReq.addEventListener(\"load\", reqListener);\n",
       "  oReq.open(\"GET\", el.title);\n",
       "  oReq.send();\n",
       "\n",
       "\n",
       "  //iframe.src = el.title;\n",
       "  const resultPane = document.querySelector(panelName + \"-pane\");\n",
       "  if (resultPane.classList.contains(\"hidden\")) {\n",
       "    resultPane.classList.remove(\"hidden\");\n",
       "  }\n",
       "}\n",
       "function closePanel(el) {\n",
       "  const panelName = \"#\" + el.getAttribute('paneName')\n",
       "  const resultPane = document.querySelector(panelName + \"-pane\");\n",
       "  if (!resultPane.classList.contains(\"hidden\")) {\n",
       "    resultPane.classList.add(\"hidden\");\n",
       "  }\n",
       "}\n",
       "\n",
       "</script>\n",
       "<div class=\"master-wrapper\">\n",
       "  <div class=\"block master-tbl\"><div>\n",
       "<style scoped>\n",
       "    .dataframe tbody tr th:only-of-type {\n",
       "        vertical-align: middle;\n",
       "    }\n",
       "\n",
       "    .dataframe tbody tr th {\n",
       "        vertical-align: top;\n",
       "    }\n",
       "\n",
       "    .dataframe thead th {\n",
       "        text-align: right;\n",
       "    }\n",
       "</style>\n",
       "<table border=\"1\" class=\"dataframe\">\n",
       "  <thead>\n",
       "    <tr style=\"text-align: right;\">\n",
       "      <th>project</th>\n",
       "      <th>uid</th>\n",
       "      <th>iter</th>\n",
       "      <th>start</th>\n",
       "      <th>state</th>\n",
       "      <th>name</th>\n",
       "      <th>labels</th>\n",
       "      <th>inputs</th>\n",
       "      <th>parameters</th>\n",
       "      <th>results</th>\n",
       "      <th>artifacts</th>\n",
       "    </tr>\n",
       "  </thead>\n",
       "  <tbody>\n",
       "    <tr>\n",
       "      <td>snowflake-dask</td>\n",
       "      <td><div title=\"7919bc3027e44f6c8794029c945eda57\"><a href=\"https://dashboard.default-tenant.app.us-sales-322.iguazio-cd1.com/mlprojects/snowflake-dask/jobs/monitor/7919bc3027e44f6c8794029c945eda57/overview\" target=\"_blank\" >...945eda57</a></div></td>\n",
       "      <td>0</td>\n",
       "      <td>Mar 10 19:31:35</td>\n",
       "      <td>completed</td>\n",
       "      <td>snowflake-dask-mlrun-load_delayed</td>\n",
       "      <td><div class=\"dictlist\">v3io_user=xingsheng</div><div class=\"dictlist\">kind=job</div><div class=\"dictlist\">owner=xingsheng</div><div class=\"dictlist\">mlrun/client_version=0.10.0</div><div class=\"dictlist\">host=snowflake-dask-mlrun-load-delayed-6554g</div></td>\n",
       "      <td></td>\n",
       "      <td><div class=\"dictlist\">dask_client=db://snowflake-dask/snowflake-dask-cluster</div><div class=\"dictlist\">connection_info={'user': 'xingsheng', 'password': 'Xgg2jcDDbxBsB7oL', 'warehouse': 'compute_sh', 'account': 'nf77378.eu-west-2.aws'}</div><div class=\"dictlist\">query=SELECT * FROM SNOWFLAKE_SAMPLE_DATA.TPCH_SF100.CUSTOMER LIMIT 3000</div><div class=\"dictlist\">out_dir=/v3io/bigdata/pq_from_sf_dask/aee6641a-a0a8-11ec-b79f-0788189e3eec</div><div class=\"dictlist\">write_out=True</div><div class=\"dictlist\">publish=True</div></td>\n",
       "      <td><div class=\"dictlist\">sfAccount=nf77378.eu-west-2.aws</div><div class=\"dictlist\">number of rows=3000</div><div class=\"dictlist\">parquet=/v3io/bigdata/pq_from_sf_dask/aee6641a-a0a8-11ec-b79f-0788189e3eec</div></td>\n",
       "      <td><div title=\"/v3io/projects/snowflake-dask/dask_data_frame.parquet\">dask_data_frame</div><div title=\"/v3io/projects/snowflake-dask/my_df_describe.parquet\">my_df_describe</div><div title=\"/v3io/projects/snowflake-dask/my_df_grpby.parquet\">my_df_grpby</div></td>\n",
       "    </tr>\n",
       "  </tbody>\n",
       "</table>\n",
       "</div></div>\n",
       "  <div id=\"result5a32ffc9-pane\" class=\"right-pane block hidden\">\n",
       "    <div class=\"pane-header\">\n",
       "      <span id=\"result5a32ffc9-title\" class=\"pane-header-title\">Title</span>\n",
       "      <span onclick=\"closePanel(this)\" paneName=\"result5a32ffc9\" class=\"close clickable\">&times;</span>\n",
       "    </div>\n",
       "    <iframe class=\"fileview\" id=\"result5a32ffc9-body\"></iframe>\n",
       "  </div>\n",
       "</div>\n"
      ],
      "text/plain": [
       "<IPython.core.display.HTML object>"
      ]
     },
     "metadata": {},
     "output_type": "display_data"
    },
    {
     "name": "stdout",
     "output_type": "stream",
     "text": [
      "\n"
     ]
    },
    {
     "data": {
      "text/html": [
       "<b> > to track results use the .show() or .logs() methods  or <a href=\"https://dashboard.default-tenant.app.us-sales-322.iguazio-cd1.com/mlprojects/snowflake-dask/jobs/monitor/7919bc3027e44f6c8794029c945eda57/overview\" target=\"_blank\">click here</a> to open in UI</b>"
      ],
      "text/plain": [
       "<IPython.core.display.HTML object>"
      ]
     },
     "metadata": {},
     "output_type": "display_data"
    },
    {
     "name": "stdout",
     "output_type": "stream",
     "text": [
      "> 2022-03-10 19:32:01,048 [info] run executed, status=completed\n"
     ]
    },
    {
     "data": {
      "text/plain": [
       "<mlrun.model.RunObject at 0x7f2fbd398090>"
      ]
     },
     "execution_count": 7,
     "metadata": {},
     "output_type": "execute_result"
    }
   ],
   "source": [
    "import uuid\n",
    "parquet_path = f\"/v3io/bigdata/pq_from_sf_dask/{uuid.uuid1()}\"\n",
    "\n",
    "fn.run(handler = 'load_delayed',\n",
    "       params={\"dask_client\": dask_uri, \n",
    "               \"connection_info\" :connection_info, \n",
    "               \"query\": \"SELECT * FROM SNOWFLAKE_SAMPLE_DATA.TPCH_SF100.CUSTOMER LIMIT 3000\",\n",
    "               \"out_dir\": parquet_path,\n",
    "               \"write_out\": True,\n",
    "               \"publish\": True\n",
    "              }\n",
    "      )"
   ]
  },
  {
   "cell_type": "markdown",
   "metadata": {},
   "source": [
    "## Track the progress in the UI"
   ]
  },
  {
   "cell_type": "markdown",
   "metadata": {},
   "source": [
    "Users can view the progress and detailed information in the mlrun UI by clicking on the uid above. <br>\n",
    "Also, to track the dask progress in the dask UI click on the \"dashboard link\" above the \"client\" section"
   ]
  }
 ],
 "metadata": {
  "kernelspec": {
   "display_name": "Python [conda env:root] *",
   "language": "python",
   "name": "conda-root-py"
  },
  "language_info": {
   "codemirror_mode": {
    "name": "ipython",
    "version": 3
   },
   "file_extension": ".py",
   "mimetype": "text/x-python",
   "name": "python",
   "nbconvert_exporter": "python",
   "pygments_lexer": "ipython3",
   "version": "3.7.6"
  }
 },
 "nbformat": 4,
 "nbformat_minor": 4
}
