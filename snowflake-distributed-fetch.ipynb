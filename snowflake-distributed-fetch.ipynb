{
 "cells": [
  {
   "cell_type": "markdown",
   "metadata": {},
   "source": [
    "### This is the notebook for the blog snowflake dask to show parallel processing of snowflake results in a dask cluster"
   ]
  },
  {
   "cell_type": "markdown",
   "metadata": {},
   "source": [
    "Install the Snowflake Connect Python Module with Pandas"
   ]
  },
  {
   "cell_type": "code",
   "execution_count": 2,
   "metadata": {},
   "outputs": [],
   "source": [
    "# !pip install snowflake-connector-python[pandas]"
   ]
  },
  {
   "cell_type": "markdown",
   "metadata": {},
   "source": [
    "### Load snowflake configuration from config file. \n",
    "This is for demo purpose, in the real production code, you would need to put the snowflake connection info into secrets use the secrets in the running pod to connect to snowflake"
   ]
  },
  {
   "cell_type": "code",
   "execution_count": 35,
   "metadata": {},
   "outputs": [
    {
     "name": "stdout",
     "output_type": "stream",
     "text": [
      "xingsheng\n"
     ]
    }
   ],
   "source": [
    "import yaml\n",
    "import os\n",
    "# Load connection info\n",
    "with open(\"/User/config.yaml\") as f:\n",
    "    connection_info = yaml.safe_load(f)\n",
    "\n",
    "# verify the config\n",
    "print(connection_info['user'])"
   ]
  },
  {
   "cell_type": "markdown",
   "metadata": {},
   "source": [
    "### Load snowflake pem private key from a file. Note here you will need to replace the key file with your own file path and key file"
   ]
  },
  {
   "cell_type": "code",
   "execution_count": 37,
   "metadata": {},
   "outputs": [],
   "source": [
    "import snowflake.connector\n",
    "import os\n",
    "from cryptography.hazmat.backends import default_backend\n",
    "from cryptography.hazmat.primitives.asymmetric import rsa\n",
    "from cryptography.hazmat.primitives.asymmetric import dsa\n",
    "from cryptography.hazmat.primitives import serialization    \n",
    "\n",
    "pk_path = connection_info['pkPath']\n",
    "pk_password = connection_info['pkPassword']\n",
    "sf_password = connection_info['password']\n",
    "\n",
    "if pk_path and pk_password:\n",
    "    with open(pk_path, \"rb\") as key:\n",
    "        p_key= serialization.load_pem_private_key(\n",
    "            key.read(),\n",
    "            password=str(pk_password).encode(),\n",
    "            backend=default_backend()\n",
    "        )\n",
    "    pkb = p_key.private_bytes(\n",
    "        encoding=serialization.Encoding.DER,\n",
    "        format=serialization.PrivateFormat.PKCS8\n",
    "        ,encryption_algorithm=serialization.NoEncryption()\n",
    "    )\n",
    "    connection_info.pop('password', 'No password found')\n",
    "    connection_info['private_key'] = pkb\n",
    "elif sf_password:\n",
    "    connection_info['password'] = sf_password\n",
    "else:\n",
    "    raise Exception(\"\\nPlease set up the secret for Snowflake in your project!\\n\")"
   ]
  },
  {
   "cell_type": "markdown",
   "metadata": {},
   "source": [
    "### A simple example of using snowflake python connector\n",
    "If you are using a distributed environment to parallelize workloads, you can use the Snowflake Connector for Python to distribute the work of fetching and processing results.<br>\n",
    "In this example, we create a connection to snowflake, execute a query and fetch the query results to a panda dataframe (assuming the resultset can fit into the memory)"
   ]
  },
  {
   "cell_type": "code",
   "execution_count": 38,
   "metadata": {},
   "outputs": [
    {
     "data": {
      "text/html": [
       "<div>\n",
       "<style scoped>\n",
       "    .dataframe tbody tr th:only-of-type {\n",
       "        vertical-align: middle;\n",
       "    }\n",
       "\n",
       "    .dataframe tbody tr th {\n",
       "        vertical-align: top;\n",
       "    }\n",
       "\n",
       "    .dataframe thead th {\n",
       "        text-align: right;\n",
       "    }\n",
       "</style>\n",
       "<table border=\"1\" class=\"dataframe\">\n",
       "  <thead>\n",
       "    <tr style=\"text-align: right;\">\n",
       "      <th></th>\n",
       "      <th>C_CUSTKEY</th>\n",
       "      <th>C_NAME</th>\n",
       "      <th>C_ADDRESS</th>\n",
       "      <th>C_NATIONKEY</th>\n",
       "      <th>C_PHONE</th>\n",
       "      <th>C_ACCTBAL</th>\n",
       "      <th>C_MKTSEGMENT</th>\n",
       "      <th>C_COMMENT</th>\n",
       "    </tr>\n",
       "  </thead>\n",
       "  <tbody>\n",
       "    <tr>\n",
       "      <th>0</th>\n",
       "      <td>30001</td>\n",
       "      <td>Customer#000030001</td>\n",
       "      <td>Ui1b,3Q71CiLTJn4MbVp,,YCZARIaNTelfst</td>\n",
       "      <td>4</td>\n",
       "      <td>14-526-204-4500</td>\n",
       "      <td>8848.47</td>\n",
       "      <td>MACHINERY</td>\n",
       "      <td>frays wake blithely enticingly ironic asymptote</td>\n",
       "    </tr>\n",
       "    <tr>\n",
       "      <th>1</th>\n",
       "      <td>30002</td>\n",
       "      <td>Customer#000030002</td>\n",
       "      <td>UVBoMtILkQu1J3v</td>\n",
       "      <td>11</td>\n",
       "      <td>21-340-653-9800</td>\n",
       "      <td>5221.81</td>\n",
       "      <td>MACHINERY</td>\n",
       "      <td>he slyly ironic pinto beans wake slyly above t...</td>\n",
       "    </tr>\n",
       "    <tr>\n",
       "      <th>2</th>\n",
       "      <td>30003</td>\n",
       "      <td>Customer#000030003</td>\n",
       "      <td>CuGi9fwKn8JdR</td>\n",
       "      <td>21</td>\n",
       "      <td>31-757-493-7525</td>\n",
       "      <td>3014.89</td>\n",
       "      <td>BUILDING</td>\n",
       "      <td>e furiously alongside of the requests. evenly ...</td>\n",
       "    </tr>\n",
       "    <tr>\n",
       "      <th>3</th>\n",
       "      <td>30004</td>\n",
       "      <td>Customer#000030004</td>\n",
       "      <td>tkR93ReOnf9zYeO</td>\n",
       "      <td>23</td>\n",
       "      <td>33-870-136-4375</td>\n",
       "      <td>3308.55</td>\n",
       "      <td>AUTOMOBILE</td>\n",
       "      <td>ssly bold deposits. final req</td>\n",
       "    </tr>\n",
       "    <tr>\n",
       "      <th>4</th>\n",
       "      <td>30005</td>\n",
       "      <td>Customer#000030005</td>\n",
       "      <td>pvq4uDoD8pEwpAE01aesCtbD9WU8qmlsvoFav5</td>\n",
       "      <td>9</td>\n",
       "      <td>19-144-468-5416</td>\n",
       "      <td>-278.54</td>\n",
       "      <td>MACHINERY</td>\n",
       "      <td>ructions behind the pinto beans x-ra</td>\n",
       "    </tr>\n",
       "  </tbody>\n",
       "</table>\n",
       "</div>"
      ],
      "text/plain": [
       "   C_CUSTKEY              C_NAME                               C_ADDRESS  \\\n",
       "0      30001  Customer#000030001    Ui1b,3Q71CiLTJn4MbVp,,YCZARIaNTelfst   \n",
       "1      30002  Customer#000030002                         UVBoMtILkQu1J3v   \n",
       "2      30003  Customer#000030003                           CuGi9fwKn8JdR   \n",
       "3      30004  Customer#000030004                         tkR93ReOnf9zYeO   \n",
       "4      30005  Customer#000030005  pvq4uDoD8pEwpAE01aesCtbD9WU8qmlsvoFav5   \n",
       "\n",
       "   C_NATIONKEY          C_PHONE  C_ACCTBAL C_MKTSEGMENT  \\\n",
       "0            4  14-526-204-4500    8848.47    MACHINERY   \n",
       "1           11  21-340-653-9800    5221.81    MACHINERY   \n",
       "2           21  31-757-493-7525    3014.89     BUILDING   \n",
       "3           23  33-870-136-4375    3308.55   AUTOMOBILE   \n",
       "4            9  19-144-468-5416    -278.54    MACHINERY   \n",
       "\n",
       "                                           C_COMMENT  \n",
       "0    frays wake blithely enticingly ironic asymptote  \n",
       "1  he slyly ironic pinto beans wake slyly above t...  \n",
       "2  e furiously alongside of the requests. evenly ...  \n",
       "3                      ssly bold deposits. final req  \n",
       "4               ructions behind the pinto beans x-ra  "
      ]
     },
     "execution_count": 38,
     "metadata": {},
     "output_type": "execute_result"
    }
   ],
   "source": [
    "import pandas as pd\n",
    "import snowflake.connector as snow\n",
    "\n",
    "ctx = snow.connect(**connection_info)\n",
    "\n",
    "query = \"SELECT * FROM SNOWFLAKE_SAMPLE_DATA.TPCH_SF1.CUSTOMER\"\n",
    "\n",
    "# old, slow way\n",
    "# pd.read_sql(query, ctx)\n",
    "\n",
    "# a faster way to load\n",
    "cur = ctx.cursor()\n",
    "cur.execute(query)\n",
    "df = cur.fetch_pandas_all()\n",
    "df.head()"
   ]
  },
  {
   "cell_type": "markdown",
   "metadata": {},
   "source": [
    "### Retrieving the List of Result Batches\n",
    "**Reference:**\n",
    "https://docs.snowflake.com/en/user-guide/python-connector-distributed-fetch.html\n",
    "\n",
    "After you use the Cursor object to execute a query, you can distribute the work of fetching the results by using result batches. A result batch encapsulates a function that retrieves a subset of the results. You can assign different workers to use different result batches to fetch and process results in parallel."
   ]
  },
  {
   "cell_type": "markdown",
   "metadata": {},
   "source": [
    "*Note: It seems snowflake will decide by default the split of the batches, for example, when set row count to 100000, it returns 2 batches. When set row count to 1000000, it returns 6 batches. for rowcount => 10000000, 8 btaches*"
   ]
  },
  {
   "cell_type": "code",
   "execution_count": 39,
   "metadata": {},
   "outputs": [
    {
     "name": "stdout",
     "output_type": "stream",
     "text": [
      "result_batch_list = [ArrowResultChunk(49152), ArrowResultChunk(data_0_0_1)]\n",
      "\n",
      "num_result_batches = 2\n",
      "\n",
      "[ArrowResultChunk(49152)]\n",
      "[ArrowResultChunk(data_0_0_1)]\n"
     ]
    }
   ],
   "source": [
    "with snow.connect(**connection_info) as conn:\n",
    "    with conn.cursor() as cur:\n",
    "        # Execute a query.\n",
    "        cur.execute('select seq4() as n from table(generator(rowcount => 100000));')\n",
    "\n",
    "        # Get the list of result batches\n",
    "        result_batch_list = cur.get_result_batches()\n",
    "        print(f'result_batch_list = {result_batch_list}\\n')\n",
    "\n",
    "        # Get the number of result batches in the list. for rowcount => 1000000, we got 6 \n",
    "        num_result_batches = len(result_batch_list)\n",
    "        print(f'num_result_batches = {num_result_batches}\\n')        \n",
    "\n",
    "        # Split the list of result batches into two\n",
    "        # to distribute the work of fetching results\n",
    "        # between TWO workers. split the list into 2 lists\n",
    "        result_batch_list_1 = result_batch_list[:: 2] # even number items\n",
    "        result_batch_list_2 = result_batch_list[1 :: 2] # odd number items\n",
    "        print(result_batch_list_1)\n",
    "        print(result_batch_list_2)"
   ]
  },
  {
   "cell_type": "markdown",
   "metadata": {},
   "source": [
    "#### Iterate over the list of result batches."
   ]
  },
  {
   "cell_type": "code",
   "execution_count": 40,
   "metadata": {},
   "outputs": [],
   "source": [
    "for batch in result_batch_list_1:\n",
    "    # Iterate over the subset of rows in a result batch.\n",
    "    for row in batch:\n",
    "#         print(row)\n",
    "        pass"
   ]
  },
  {
   "cell_type": "markdown",
   "metadata": {},
   "source": [
    "#### Materializing the Rows in a Result Batch"
   ]
  },
  {
   "cell_type": "code",
   "execution_count": 41,
   "metadata": {},
   "outputs": [
    {
     "name": "stdout",
     "output_type": "stream",
     "text": [
      "49152\n"
     ]
    }
   ],
   "source": [
    "# Materialize the subset of results for the first result batch\n",
    "# in the list.\n",
    "first_result_batch = result_batch_list_1[0]\n",
    "first_result_batch_data = list(first_result_batch)\n",
    "print(len(first_result_batch_data))"
   ]
  },
  {
   "cell_type": "markdown",
   "metadata": {},
   "source": [
    "#### Get the number of rows in a result batch."
   ]
  },
  {
   "cell_type": "code",
   "execution_count": 42,
   "metadata": {},
   "outputs": [],
   "source": [
    "num_rows = first_result_batch.rowcount"
   ]
  },
  {
   "cell_type": "markdown",
   "metadata": {},
   "source": [
    "#### Fetch the first result batch into a pandas dataframe and an arrow table for exploration of the data"
   ]
  },
  {
   "cell_type": "code",
   "execution_count": 43,
   "metadata": {},
   "outputs": [
    {
     "name": "stdout",
     "output_type": "stream",
     "text": [
      "batch numbers = 5\n"
     ]
    },
    {
     "data": {
      "text/html": [
       "<div>\n",
       "<style scoped>\n",
       "    .dataframe tbody tr th:only-of-type {\n",
       "        vertical-align: middle;\n",
       "    }\n",
       "\n",
       "    .dataframe tbody tr th {\n",
       "        vertical-align: top;\n",
       "    }\n",
       "\n",
       "    .dataframe thead th {\n",
       "        text-align: right;\n",
       "    }\n",
       "</style>\n",
       "<table border=\"1\" class=\"dataframe\">\n",
       "  <thead>\n",
       "    <tr style=\"text-align: right;\">\n",
       "      <th></th>\n",
       "      <th>C_CUSTKEY</th>\n",
       "      <th>C_NAME</th>\n",
       "      <th>C_ADDRESS</th>\n",
       "      <th>C_NATIONKEY</th>\n",
       "      <th>C_PHONE</th>\n",
       "      <th>C_ACCTBAL</th>\n",
       "      <th>C_MKTSEGMENT</th>\n",
       "      <th>C_COMMENT</th>\n",
       "    </tr>\n",
       "  </thead>\n",
       "  <tbody>\n",
       "    <tr>\n",
       "      <th>0</th>\n",
       "      <td>4150001</td>\n",
       "      <td>Customer#004150001</td>\n",
       "      <td>748El4LG4z6KpYy5ltMFwD9d</td>\n",
       "      <td>16</td>\n",
       "      <td>26-866-198-9074</td>\n",
       "      <td>1676.56</td>\n",
       "      <td>HOUSEHOLD</td>\n",
       "      <td>ctions. bold, unusual deposits was slyly</td>\n",
       "    </tr>\n",
       "    <tr>\n",
       "      <th>1</th>\n",
       "      <td>4150002</td>\n",
       "      <td>Customer#004150002</td>\n",
       "      <td>deT8E29p q8sf6bmcx0kabKck</td>\n",
       "      <td>19</td>\n",
       "      <td>29-525-249-7386</td>\n",
       "      <td>4887.01</td>\n",
       "      <td>HOUSEHOLD</td>\n",
       "      <td>. regular, bold asymptotes sleep furiously reg...</td>\n",
       "    </tr>\n",
       "    <tr>\n",
       "      <th>2</th>\n",
       "      <td>4150003</td>\n",
       "      <td>Customer#004150003</td>\n",
       "      <td>5UrLRNUCHEJbRy57AY22biqUn8MmAAHQYYPTr</td>\n",
       "      <td>13</td>\n",
       "      <td>23-633-914-2176</td>\n",
       "      <td>8023.99</td>\n",
       "      <td>FURNITURE</td>\n",
       "      <td>across the even dolphins wake</td>\n",
       "    </tr>\n",
       "    <tr>\n",
       "      <th>3</th>\n",
       "      <td>4150004</td>\n",
       "      <td>Customer#004150004</td>\n",
       "      <td>EJnoZGdp,MaSiRZKwij</td>\n",
       "      <td>15</td>\n",
       "      <td>25-314-660-3167</td>\n",
       "      <td>8220.64</td>\n",
       "      <td>BUILDING</td>\n",
       "      <td>ggle furiously busy packages. c</td>\n",
       "    </tr>\n",
       "    <tr>\n",
       "      <th>4</th>\n",
       "      <td>4150005</td>\n",
       "      <td>Customer#004150005</td>\n",
       "      <td>9,cyvAem0f2Ncd dNAn6HYw3t8BB</td>\n",
       "      <td>5</td>\n",
       "      <td>15-356-329-3761</td>\n",
       "      <td>2313.07</td>\n",
       "      <td>AUTOMOBILE</td>\n",
       "      <td>he deposits wake carefully carefully regular a...</td>\n",
       "    </tr>\n",
       "  </tbody>\n",
       "</table>\n",
       "</div>"
      ],
      "text/plain": [
       "   C_CUSTKEY              C_NAME                              C_ADDRESS  \\\n",
       "0    4150001  Customer#004150001               748El4LG4z6KpYy5ltMFwD9d   \n",
       "1    4150002  Customer#004150002              deT8E29p q8sf6bmcx0kabKck   \n",
       "2    4150003  Customer#004150003  5UrLRNUCHEJbRy57AY22biqUn8MmAAHQYYPTr   \n",
       "3    4150004  Customer#004150004                   EJnoZGdp,MaSiRZKwij    \n",
       "4    4150005  Customer#004150005           9,cyvAem0f2Ncd dNAn6HYw3t8BB   \n",
       "\n",
       "   C_NATIONKEY          C_PHONE  C_ACCTBAL C_MKTSEGMENT  \\\n",
       "0           16  26-866-198-9074    1676.56    HOUSEHOLD   \n",
       "1           19  29-525-249-7386    4887.01    HOUSEHOLD   \n",
       "2           13  23-633-914-2176    8023.99    FURNITURE   \n",
       "3           15  25-314-660-3167    8220.64     BUILDING   \n",
       "4            5  15-356-329-3761    2313.07   AUTOMOBILE   \n",
       "\n",
       "                                           C_COMMENT  \n",
       "0          ctions. bold, unusual deposits was slyly   \n",
       "1  . regular, bold asymptotes sleep furiously reg...  \n",
       "2                     across the even dolphins wake   \n",
       "3                    ggle furiously busy packages. c  \n",
       "4  he deposits wake carefully carefully regular a...  "
      ]
     },
     "execution_count": 43,
     "metadata": {},
     "output_type": "execute_result"
    }
   ],
   "source": [
    "with snow.connect(**connection_info) as conn:\n",
    "    with conn.cursor() as cur:\n",
    "        # Execute a query.\n",
    "        cur.execute('SELECT * FROM SNOWFLAKE_SAMPLE_DATA.TPCH_SF100.CUSTOMER LIMIT 10000;')\n",
    "        \n",
    "        # https://docs.snowflake.com/en/user-guide/python-connector-api.html#get_result_batches\n",
    "        batches = cur.get_result_batches() # Parameters None.\n",
    "        print(f'batch numbers = {len(batches)}')\n",
    "\n",
    "        # Get the row from the ResultBatch as a Pandas DataFrame.\n",
    "        dataframe = batches[1].to_pandas()\n",
    "\n",
    "        # Get the row from the ResultBatch as a PyArrow table.\n",
    "        table = batches[1].to_arrow()\n",
    "\n",
    "dataframe.head()"
   ]
  },
  {
   "cell_type": "markdown",
   "metadata": {},
   "source": [
    "### Now run the query in a Dask cluster"
   ]
  },
  {
   "cell_type": "markdown",
   "metadata": {},
   "source": [
    "First, get the dask cluster client from dask uri"
   ]
  },
  {
   "cell_type": "code",
   "execution_count": 44,
   "metadata": {},
   "outputs": [
    {
     "name": "stdout",
     "output_type": "stream",
     "text": [
      "> 2022-05-17 17:36:12,769 [info] trying dask client at: tcp://mlrun-snowflake-dask-cluster-14563d22-6.default-tenant:8786\n",
      "> 2022-05-17 17:36:12,780 [info] using remote dask scheduler (mlrun-snowflake-dask-cluster-14563d22-6) at: tcp://mlrun-snowflake-dask-cluster-14563d22-6.default-tenant:8786\n"
     ]
    },
    {
     "data": {
      "text/html": [
       "<a href=\"http://default-tenant.app.us-sales-341.iguazio-cd1.com:30066/status\" target=\"_blank\" >dashboard link: default-tenant.app.us-sales-341.iguazio-cd1.com:30066</a>"
      ],
      "text/plain": [
       "<IPython.core.display.HTML object>"
      ]
     },
     "metadata": {},
     "output_type": "display_data"
    }
   ],
   "source": [
    "import mlrun\n",
    "dask_uri=f'db://snowflake-dask/snowflake-dask-cluster'\n",
    "client = mlrun.import_function(dask_uri).client"
   ]
  },
  {
   "cell_type": "markdown",
   "metadata": {},
   "source": [
    "Define a function to execute the query and process the query results in parallel in a dask cluster"
   ]
  },
  {
   "cell_type": "code",
   "execution_count": 45,
   "metadata": {},
   "outputs": [],
   "source": [
    "import snowflake.connector as snow\n",
    "import numpy as np\n",
    "import mlrun\n",
    "from dask.distributed import Client\n",
    "from dask.dataframe import from_delayed\n",
    "from dask import delayed\n",
    "import warnings\n",
    "\n",
    "warnings.filterwarnings(\"ignore\")\n",
    "\n",
    "@delayed\n",
    "def load(batch):\n",
    "    try:\n",
    "        print(\"BATCHING\")\n",
    "        df_ = batch.to_pandas()\n",
    "        return df_\n",
    "    except Exception as e:\n",
    "        print(f\"Failed on {batch} for {e}\")\n",
    "        pass\n",
    "\n",
    "def load_delayed(dask_function, connection_info, query):\n",
    "    \n",
    "    # setup dask client from the MLRun dask cluster function\n",
    "    if dask_function:\n",
    "        client = mlrun.import_function(dask_function).client\n",
    "        print(f'dask client === >>> {client} \\n')\n",
    "    else:\n",
    "        client = Client()\n",
    "        print(f'\\nNewly created dask client === >>> {client} \\n')\n",
    "        \n",
    "    query = query\n",
    "\n",
    "    conn = snow.connect(**connection_info)\n",
    "    cur = conn.cursor()\n",
    "    cur.execute(query)\n",
    "    batches = cur.get_result_batches()\n",
    "    print(f'batches len === {len(batches)}\\n')       \n",
    "\n",
    "    dfs = []    \n",
    "    for batch in batches:\n",
    "        if batch.rowcount > 0:\n",
    "            df = load(batch)\n",
    "            dfs.append(df)        \n",
    "    ddf = from_delayed(dfs)\n",
    "    \n",
    "    ddf.persist()\n",
    "    print(f'sum === >>> {ddf.sum().compute()}\\n')\n",
    "    print(f'mean === >>> {ddf.mean().compute()}\\n')\n",
    "    print(f'ddf length === >>> {len(ddf.index)}\\n')\n",
    "    print(f'ddf head === >>> {ddf.head()}\\n')\n",
    "    print(f'ddf  === >>> {ddf}\\n')\n",
    "    return ddf"
   ]
  },
  {
   "cell_type": "markdown",
   "metadata": {},
   "source": [
    "Run the function"
   ]
  },
  {
   "cell_type": "code",
   "execution_count": 46,
   "metadata": {},
   "outputs": [
    {
     "name": "stdout",
     "output_type": "stream",
     "text": [
      "> 2022-05-17 17:36:22,377 [info] trying dask client at: tcp://mlrun-snowflake-dask-cluster-14563d22-6.default-tenant:8786\n",
      "> 2022-05-17 17:36:22,386 [info] using remote dask scheduler (mlrun-snowflake-dask-cluster-14563d22-6) at: tcp://mlrun-snowflake-dask-cluster-14563d22-6.default-tenant:8786\n"
     ]
    },
    {
     "data": {
      "text/html": [
       "<a href=\"http://default-tenant.app.us-sales-341.iguazio-cd1.com:30066/status\" target=\"_blank\" >dashboard link: default-tenant.app.us-sales-341.iguazio-cd1.com:30066</a>"
      ],
      "text/plain": [
       "<IPython.core.display.HTML object>"
      ]
     },
     "metadata": {},
     "output_type": "display_data"
    },
    {
     "name": "stdout",
     "output_type": "stream",
     "text": [
      "dask client === >>> <Client: 'tcp://172.31.15.53:8786' processes=1 threads=1, memory=20.00 GiB> \n",
      "\n",
      "batches len === 8\n",
      "\n",
      "sum === >>> C_CUSTKEY                                            398729377111\n",
      "C_NAME          Customer#004100001Customer#004100002Customer#0...\n",
      "C_ADDRESS       cwYCpitc8dCUOfamzjvUsg2l8YkWC9m17OeUvqMetJzWdi...\n",
      "C_NATIONKEY                                                961451\n",
      "C_PHONE         23-947-805-614529-261-166-741817-166-379-49082...\n",
      "C_ACCTBAL                                            358916483.28\n",
      "C_MKTSEGMENT    MACHINERYFURNITUREMACHINERYFURNITUREFURNITUREF...\n",
      "C_COMMENT       inal requests use blithely along the reguosits...\n",
      "dtype: object\n",
      "\n",
      "mean === >>> C_CUSTKEY      4.984117e+06\n",
      "C_NATIONKEY    1.201814e+01\n",
      "C_ACCTBAL      4.486456e+03\n",
      "dtype: float64\n",
      "\n",
      "ddf length === >>> 80000\n",
      "\n",
      "ddf head === >>>    C_CUSTKEY              C_NAME                              C_ADDRESS  \\\n",
      "0    4100001  Customer#004100001                           cwYCpitc8dCU   \n",
      "1    4100002  Customer#004100002  OfamzjvUsg2l8YkWC9m17OeUvqMetJzWdiZPw   \n",
      "2    4100003  Customer#004100003                       OdFvPvPc7Bv0DSHm   \n",
      "3    4100004  Customer#004100004                    lTMvYGd,z CrsIBUFl5   \n",
      "4    4100005  Customer#004100005                          s4B19i lP1qOD   \n",
      "\n",
      "   C_NATIONKEY          C_PHONE  C_ACCTBAL C_MKTSEGMENT  \\\n",
      "0           13  23-947-805-6145    8064.52    MACHINERY   \n",
      "1           19  29-261-166-7418    7478.85    FURNITURE   \n",
      "2            7  17-166-379-4908    9019.43    MACHINERY   \n",
      "3           14  24-299-747-3519    7606.59    FURNITURE   \n",
      "4           22  32-190-295-5100     -33.37    FURNITURE   \n",
      "\n",
      "                                           C_COMMENT  \n",
      "0          inal requests use blithely along the regu  \n",
      "1  osits integrate carefully ironic, bold instruc...  \n",
      "2  ly final packages can cajole bold instructions...  \n",
      "3                     y excuses. furiously regular i  \n",
      "4             rding to the unusual ideas. slyly expr  \n",
      "\n",
      "ddf  === >>> Dask DataFrame Structure:\n",
      "              C_CUSTKEY  C_NAME C_ADDRESS C_NATIONKEY C_PHONE C_ACCTBAL C_MKTSEGMENT C_COMMENT\n",
      "npartitions=7                                                                                 \n",
      "                  int32  object    object        int8  object   float64       object    object\n",
      "                    ...     ...       ...         ...     ...       ...          ...       ...\n",
      "...                 ...     ...       ...         ...     ...       ...          ...       ...\n",
      "                    ...     ...       ...         ...     ...       ...          ...       ...\n",
      "                    ...     ...       ...         ...     ...       ...          ...       ...\n",
      "Dask Name: from-delayed, 14 tasks\n",
      "\n"
     ]
    }
   ],
   "source": [
    "ddf = load_delayed(dask_function=dask_uri, \n",
    "                   connection_info=connection_info,\n",
    "                   query=\"SELECT * FROM SNOWFLAKE_SAMPLE_DATA.TPCH_SF100.CUSTOMER LIMIT 80000\")"
   ]
  },
  {
   "cell_type": "markdown",
   "metadata": {},
   "source": [
    "Check the first few rows of the query result set"
   ]
  },
  {
   "cell_type": "code",
   "execution_count": 47,
   "metadata": {},
   "outputs": [
    {
     "data": {
      "text/html": [
       "<div>\n",
       "<style scoped>\n",
       "    .dataframe tbody tr th:only-of-type {\n",
       "        vertical-align: middle;\n",
       "    }\n",
       "\n",
       "    .dataframe tbody tr th {\n",
       "        vertical-align: top;\n",
       "    }\n",
       "\n",
       "    .dataframe thead th {\n",
       "        text-align: right;\n",
       "    }\n",
       "</style>\n",
       "<table border=\"1\" class=\"dataframe\">\n",
       "  <thead>\n",
       "    <tr style=\"text-align: right;\">\n",
       "      <th></th>\n",
       "      <th>C_CUSTKEY</th>\n",
       "      <th>C_NAME</th>\n",
       "      <th>C_ADDRESS</th>\n",
       "      <th>C_NATIONKEY</th>\n",
       "      <th>C_PHONE</th>\n",
       "      <th>C_ACCTBAL</th>\n",
       "      <th>C_MKTSEGMENT</th>\n",
       "      <th>C_COMMENT</th>\n",
       "    </tr>\n",
       "  </thead>\n",
       "  <tbody>\n",
       "    <tr>\n",
       "      <th>0</th>\n",
       "      <td>4100001</td>\n",
       "      <td>Customer#004100001</td>\n",
       "      <td>cwYCpitc8dCU</td>\n",
       "      <td>13</td>\n",
       "      <td>23-947-805-6145</td>\n",
       "      <td>8064.52</td>\n",
       "      <td>MACHINERY</td>\n",
       "      <td>inal requests use blithely along the regu</td>\n",
       "    </tr>\n",
       "    <tr>\n",
       "      <th>1</th>\n",
       "      <td>4100002</td>\n",
       "      <td>Customer#004100002</td>\n",
       "      <td>OfamzjvUsg2l8YkWC9m17OeUvqMetJzWdiZPw</td>\n",
       "      <td>19</td>\n",
       "      <td>29-261-166-7418</td>\n",
       "      <td>7478.85</td>\n",
       "      <td>FURNITURE</td>\n",
       "      <td>osits integrate carefully ironic, bold instruc...</td>\n",
       "    </tr>\n",
       "    <tr>\n",
       "      <th>2</th>\n",
       "      <td>4100003</td>\n",
       "      <td>Customer#004100003</td>\n",
       "      <td>OdFvPvPc7Bv0DSHm</td>\n",
       "      <td>7</td>\n",
       "      <td>17-166-379-4908</td>\n",
       "      <td>9019.43</td>\n",
       "      <td>MACHINERY</td>\n",
       "      <td>ly final packages can cajole bold instructions...</td>\n",
       "    </tr>\n",
       "    <tr>\n",
       "      <th>3</th>\n",
       "      <td>4100004</td>\n",
       "      <td>Customer#004100004</td>\n",
       "      <td>lTMvYGd,z CrsIBUFl5</td>\n",
       "      <td>14</td>\n",
       "      <td>24-299-747-3519</td>\n",
       "      <td>7606.59</td>\n",
       "      <td>FURNITURE</td>\n",
       "      <td>y excuses. furiously regular i</td>\n",
       "    </tr>\n",
       "    <tr>\n",
       "      <th>4</th>\n",
       "      <td>4100005</td>\n",
       "      <td>Customer#004100005</td>\n",
       "      <td>s4B19i lP1qOD</td>\n",
       "      <td>22</td>\n",
       "      <td>32-190-295-5100</td>\n",
       "      <td>-33.37</td>\n",
       "      <td>FURNITURE</td>\n",
       "      <td>rding to the unusual ideas. slyly expr</td>\n",
       "    </tr>\n",
       "  </tbody>\n",
       "</table>\n",
       "</div>"
      ],
      "text/plain": [
       "   C_CUSTKEY              C_NAME                              C_ADDRESS  \\\n",
       "0    4100001  Customer#004100001                           cwYCpitc8dCU   \n",
       "1    4100002  Customer#004100002  OfamzjvUsg2l8YkWC9m17OeUvqMetJzWdiZPw   \n",
       "2    4100003  Customer#004100003                       OdFvPvPc7Bv0DSHm   \n",
       "3    4100004  Customer#004100004                    lTMvYGd,z CrsIBUFl5   \n",
       "4    4100005  Customer#004100005                          s4B19i lP1qOD   \n",
       "\n",
       "   C_NATIONKEY          C_PHONE  C_ACCTBAL C_MKTSEGMENT  \\\n",
       "0           13  23-947-805-6145    8064.52    MACHINERY   \n",
       "1           19  29-261-166-7418    7478.85    FURNITURE   \n",
       "2            7  17-166-379-4908    9019.43    MACHINERY   \n",
       "3           14  24-299-747-3519    7606.59    FURNITURE   \n",
       "4           22  32-190-295-5100     -33.37    FURNITURE   \n",
       "\n",
       "                                           C_COMMENT  \n",
       "0          inal requests use blithely along the regu  \n",
       "1  osits integrate carefully ironic, bold instruc...  \n",
       "2  ly final packages can cajole bold instructions...  \n",
       "3                     y excuses. furiously regular i  \n",
       "4             rding to the unusual ideas. slyly expr  "
      ]
     },
     "execution_count": 47,
     "metadata": {},
     "output_type": "execute_result"
    }
   ],
   "source": [
    "ddf.head()"
   ]
  },
  {
   "cell_type": "markdown",
   "metadata": {},
   "source": [
    "Perform some aggreation on a dask dataframe"
   ]
  },
  {
   "cell_type": "code",
   "execution_count": 48,
   "metadata": {},
   "outputs": [
    {
     "data": {
      "text/plain": [
       "C_CUSTKEY\n",
       "350001     3128.51\n",
       "350002     9901.47\n",
       "350003     4139.62\n",
       "350004     8559.44\n",
       "350005     9602.29\n",
       "            ...   \n",
       "8026673    1598.71\n",
       "8026674    5513.32\n",
       "8026675    7451.19\n",
       "8026676    6191.21\n",
       "8026677    4658.96\n",
       "Name: C_ACCTBAL, Length: 80000, dtype: float64"
      ]
     },
     "execution_count": 48,
     "metadata": {},
     "output_type": "execute_result"
    }
   ],
   "source": [
    "ddf.groupby(ddf.C_CUSTKEY).C_ACCTBAL.mean().compute()"
   ]
  },
  {
   "cell_type": "markdown",
   "metadata": {},
   "source": [
    "#### Perform some more aggreation on a dask dataframe"
   ]
  },
  {
   "cell_type": "code",
   "execution_count": 49,
   "metadata": {},
   "outputs": [
    {
     "data": {
      "text/plain": [
       "358916483.28000003"
      ]
     },
     "execution_count": 49,
     "metadata": {},
     "output_type": "execute_result"
    }
   ],
   "source": [
    "ddf.C_ACCTBAL.sum().compute()"
   ]
  },
  {
   "cell_type": "markdown",
   "metadata": {},
   "source": [
    "#### Visualize the dask Task Graph"
   ]
  },
  {
   "cell_type": "code",
   "execution_count": 50,
   "metadata": {},
   "outputs": [
    {
     "data": {
      "image/png": "[encoded data removed]",
      "text/plain": [
       "<IPython.core.display.Image object>"
      ]
     },
     "execution_count": 50,
     "metadata": {},
     "output_type": "execute_result"
    }
   ],
   "source": [
    "ddf.visualize()"
   ]
  },
  {
   "cell_type": "markdown",
   "metadata": {},
   "source": [
    "Peek at the details of a dask dataframe "
   ]
  },
  {
   "cell_type": "code",
   "execution_count": 51,
   "metadata": {},
   "outputs": [
    {
     "name": "stdout",
     "output_type": "stream",
     "text": [
      "Dask DataFrame Structure:\n",
      "              C_CUSTKEY  C_NAME C_ADDRESS C_NATIONKEY C_PHONE C_ACCTBAL C_MKTSEGMENT C_COMMENT\n",
      "npartitions=7                                                                                 \n",
      "                  int32  object    object        int8  object   float64       object    object\n",
      "                    ...     ...       ...         ...     ...       ...          ...       ...\n",
      "...                 ...     ...       ...         ...     ...       ...          ...       ...\n",
      "                    ...     ...       ...         ...     ...       ...          ...       ...\n",
      "                    ...     ...       ...         ...     ...       ...          ...       ...\n",
      "Dask Name: from-delayed, 14 tasks\n"
     ]
    }
   ],
   "source": [
    "print(ddf)"
   ]
  },
  {
   "cell_type": "markdown",
   "metadata": {},
   "source": [
    "Repartition a dask dataframe to partition number 5"
   ]
  },
  {
   "cell_type": "code",
   "execution_count": 52,
   "metadata": {},
   "outputs": [],
   "source": [
    "rpdf = ddf.repartition(npartitions=5)  "
   ]
  },
  {
   "cell_type": "code",
   "execution_count": 53,
   "metadata": {},
   "outputs": [
    {
     "data": {
      "image/png": "[encoded data removed]",
      "text/plain": [
       "<IPython.core.display.Image object>"
      ]
     },
     "execution_count": 53,
     "metadata": {},
     "output_type": "execute_result"
    }
   ],
   "source": [
    "rpdf.visualize()"
   ]
  },
  {
   "cell_type": "markdown",
   "metadata": {},
   "source": [
    "#### Write the dask dataframe to parquet files"
   ]
  },
  {
   "cell_type": "code",
   "execution_count": 54,
   "metadata": {},
   "outputs": [
    {
     "data": {
      "text/plain": [
       "[None]"
      ]
     },
     "execution_count": 54,
     "metadata": {},
     "output_type": "execute_result"
    }
   ],
   "source": [
    "import dask.dataframe as dd\n",
    "import uuid\n",
    "\n",
    "filename= uuid.uuid1()\n",
    "parquet_path = f\"/v3io/bigdata/pq_from_sf_dask/{filename}\"\n",
    "dd.to_parquet(df=rpdf,path=parquet_path)"
   ]
  },
  {
   "cell_type": "markdown",
   "metadata": {},
   "source": [
    "#### Describe the dask dataframe"
   ]
  },
  {
   "cell_type": "code",
   "execution_count": 55,
   "metadata": {},
   "outputs": [
    {
     "data": {
      "text/html": [
       "<div>\n",
       "<style scoped>\n",
       "    .dataframe tbody tr th:only-of-type {\n",
       "        vertical-align: middle;\n",
       "    }\n",
       "\n",
       "    .dataframe tbody tr th {\n",
       "        vertical-align: top;\n",
       "    }\n",
       "\n",
       "    .dataframe thead th {\n",
       "        text-align: right;\n",
       "    }\n",
       "</style>\n",
       "<table border=\"1\" class=\"dataframe\">\n",
       "  <thead>\n",
       "    <tr style=\"text-align: right;\">\n",
       "      <th></th>\n",
       "      <th>C_CUSTKEY</th>\n",
       "      <th>C_NATIONKEY</th>\n",
       "      <th>C_ACCTBAL</th>\n",
       "    </tr>\n",
       "  </thead>\n",
       "  <tbody>\n",
       "    <tr>\n",
       "      <th>count</th>\n",
       "      <td>8.000000e+04</td>\n",
       "      <td>80000.000000</td>\n",
       "      <td>80000.000000</td>\n",
       "    </tr>\n",
       "    <tr>\n",
       "      <th>mean</th>\n",
       "      <td>4.984117e+06</td>\n",
       "      <td>12.018137</td>\n",
       "      <td>4486.456041</td>\n",
       "    </tr>\n",
       "    <tr>\n",
       "      <th>std</th>\n",
       "      <td>2.629263e+06</td>\n",
       "      <td>7.229939</td>\n",
       "      <td>3177.308806</td>\n",
       "    </tr>\n",
       "    <tr>\n",
       "      <th>min</th>\n",
       "      <td>1.000000e+00</td>\n",
       "      <td>0.000000</td>\n",
       "      <td>-999.910000</td>\n",
       "    </tr>\n",
       "    <tr>\n",
       "      <th>25%</th>\n",
       "      <td>4.400498e+06</td>\n",
       "      <td>6.000000</td>\n",
       "      <td>2040.712500</td>\n",
       "    </tr>\n",
       "  </tbody>\n",
       "</table>\n",
       "</div>"
      ],
      "text/plain": [
       "          C_CUSTKEY   C_NATIONKEY     C_ACCTBAL\n",
       "count  8.000000e+04  80000.000000  80000.000000\n",
       "mean   4.984117e+06     12.018137   4486.456041\n",
       "std    2.629263e+06      7.229939   3177.308806\n",
       "min    1.000000e+00      0.000000   -999.910000\n",
       "25%    4.400498e+06      6.000000   2040.712500"
      ]
     },
     "execution_count": 55,
     "metadata": {},
     "output_type": "execute_result"
    }
   ],
   "source": [
    "df_describe = ddf.describe().compute()\n",
    "df_describe.head()"
   ]
  },
  {
   "cell_type": "markdown",
   "metadata": {},
   "source": [
    "#### Persist the dask datafrome to dask cluster as 'rpdf'"
   ]
  },
  {
   "cell_type": "code",
   "execution_count": 56,
   "metadata": {},
   "outputs": [
    {
     "data": {
      "text/html": [
       "<div><strong>Dask DataFrame Structure:</strong></div>\n",
       "<div>\n",
       "<style scoped>\n",
       "    .dataframe tbody tr th:only-of-type {\n",
       "        vertical-align: middle;\n",
       "    }\n",
       "\n",
       "    .dataframe tbody tr th {\n",
       "        vertical-align: top;\n",
       "    }\n",
       "\n",
       "    .dataframe thead th {\n",
       "        text-align: right;\n",
       "    }\n",
       "</style>\n",
       "<table border=\"1\" class=\"dataframe\">\n",
       "  <thead>\n",
       "    <tr style=\"text-align: right;\">\n",
       "      <th></th>\n",
       "      <th>C_CUSTKEY</th>\n",
       "      <th>C_NAME</th>\n",
       "      <th>C_ADDRESS</th>\n",
       "      <th>C_NATIONKEY</th>\n",
       "      <th>C_PHONE</th>\n",
       "      <th>C_ACCTBAL</th>\n",
       "      <th>C_MKTSEGMENT</th>\n",
       "      <th>C_COMMENT</th>\n",
       "    </tr>\n",
       "    <tr>\n",
       "      <th>npartitions=5</th>\n",
       "      <th></th>\n",
       "      <th></th>\n",
       "      <th></th>\n",
       "      <th></th>\n",
       "      <th></th>\n",
       "      <th></th>\n",
       "      <th></th>\n",
       "      <th></th>\n",
       "    </tr>\n",
       "  </thead>\n",
       "  <tbody>\n",
       "    <tr>\n",
       "      <th></th>\n",
       "      <td>int32</td>\n",
       "      <td>object</td>\n",
       "      <td>object</td>\n",
       "      <td>int8</td>\n",
       "      <td>object</td>\n",
       "      <td>float64</td>\n",
       "      <td>object</td>\n",
       "      <td>object</td>\n",
       "    </tr>\n",
       "    <tr>\n",
       "      <th></th>\n",
       "      <td>...</td>\n",
       "      <td>...</td>\n",
       "      <td>...</td>\n",
       "      <td>...</td>\n",
       "      <td>...</td>\n",
       "      <td>...</td>\n",
       "      <td>...</td>\n",
       "      <td>...</td>\n",
       "    </tr>\n",
       "    <tr>\n",
       "      <th>...</th>\n",
       "      <td>...</td>\n",
       "      <td>...</td>\n",
       "      <td>...</td>\n",
       "      <td>...</td>\n",
       "      <td>...</td>\n",
       "      <td>...</td>\n",
       "      <td>...</td>\n",
       "      <td>...</td>\n",
       "    </tr>\n",
       "    <tr>\n",
       "      <th></th>\n",
       "      <td>...</td>\n",
       "      <td>...</td>\n",
       "      <td>...</td>\n",
       "      <td>...</td>\n",
       "      <td>...</td>\n",
       "      <td>...</td>\n",
       "      <td>...</td>\n",
       "      <td>...</td>\n",
       "    </tr>\n",
       "    <tr>\n",
       "      <th></th>\n",
       "      <td>...</td>\n",
       "      <td>...</td>\n",
       "      <td>...</td>\n",
       "      <td>...</td>\n",
       "      <td>...</td>\n",
       "      <td>...</td>\n",
       "      <td>...</td>\n",
       "      <td>...</td>\n",
       "    </tr>\n",
       "  </tbody>\n",
       "</table>\n",
       "</div>\n",
       "<div>Dask Name: repartition, 5 tasks</div>"
      ],
      "text/plain": [
       "Dask DataFrame Structure:\n",
       "              C_CUSTKEY  C_NAME C_ADDRESS C_NATIONKEY C_PHONE C_ACCTBAL C_MKTSEGMENT C_COMMENT\n",
       "npartitions=5                                                                                 \n",
       "                  int32  object    object        int8  object   float64       object    object\n",
       "                    ...     ...       ...         ...     ...       ...          ...       ...\n",
       "...                 ...     ...       ...         ...     ...       ...          ...       ...\n",
       "                    ...     ...       ...         ...     ...       ...          ...       ...\n",
       "                    ...     ...       ...         ...     ...       ...          ...       ...\n",
       "Dask Name: repartition, 5 tasks"
      ]
     },
     "execution_count": 56,
     "metadata": {},
     "output_type": "execute_result"
    }
   ],
   "source": [
    "rpdf.persist(name='rpdf')"
   ]
  },
  {
   "cell_type": "markdown",
   "metadata": {},
   "source": [
    "#### List all the datasets in the dask cluster"
   ]
  },
  {
   "cell_type": "code",
   "execution_count": 57,
   "metadata": {},
   "outputs": [
    {
     "data": {
      "text/plain": [
       "()"
      ]
     },
     "execution_count": 57,
     "metadata": {},
     "output_type": "execute_result"
    }
   ],
   "source": [
    "client.list_datasets()  "
   ]
  },
  {
   "cell_type": "markdown",
   "metadata": {},
   "source": [
    "#### Publish the dataset in the dask cluster that another client can access the dataframe"
   ]
  },
  {
   "cell_type": "code",
   "execution_count": 58,
   "metadata": {},
   "outputs": [],
   "source": [
    "if not client.list_datasets():\n",
    "    client.publish_dataset(rpdf=rpdf)"
   ]
  },
  {
   "cell_type": "markdown",
   "metadata": {},
   "source": [
    "#### Get dataset 'rpdf' from the dask cluster"
   ]
  },
  {
   "cell_type": "code",
   "execution_count": 59,
   "metadata": {},
   "outputs": [
    {
     "data": {
      "text/html": [
       "<div>\n",
       "<style scoped>\n",
       "    .dataframe tbody tr th:only-of-type {\n",
       "        vertical-align: middle;\n",
       "    }\n",
       "\n",
       "    .dataframe tbody tr th {\n",
       "        vertical-align: top;\n",
       "    }\n",
       "\n",
       "    .dataframe thead th {\n",
       "        text-align: right;\n",
       "    }\n",
       "</style>\n",
       "<table border=\"1\" class=\"dataframe\">\n",
       "  <thead>\n",
       "    <tr style=\"text-align: right;\">\n",
       "      <th></th>\n",
       "      <th>C_CUSTKEY</th>\n",
       "      <th>C_NAME</th>\n",
       "      <th>C_ADDRESS</th>\n",
       "      <th>C_NATIONKEY</th>\n",
       "      <th>C_PHONE</th>\n",
       "      <th>C_ACCTBAL</th>\n",
       "      <th>C_MKTSEGMENT</th>\n",
       "      <th>C_COMMENT</th>\n",
       "    </tr>\n",
       "  </thead>\n",
       "  <tbody>\n",
       "    <tr>\n",
       "      <th>0</th>\n",
       "      <td>4100001</td>\n",
       "      <td>Customer#004100001</td>\n",
       "      <td>cwYCpitc8dCU</td>\n",
       "      <td>13</td>\n",
       "      <td>23-947-805-6145</td>\n",
       "      <td>8064.52</td>\n",
       "      <td>MACHINERY</td>\n",
       "      <td>inal requests use blithely along the regu</td>\n",
       "    </tr>\n",
       "    <tr>\n",
       "      <th>1</th>\n",
       "      <td>4100002</td>\n",
       "      <td>Customer#004100002</td>\n",
       "      <td>OfamzjvUsg2l8YkWC9m17OeUvqMetJzWdiZPw</td>\n",
       "      <td>19</td>\n",
       "      <td>29-261-166-7418</td>\n",
       "      <td>7478.85</td>\n",
       "      <td>FURNITURE</td>\n",
       "      <td>osits integrate carefully ironic, bold instruc...</td>\n",
       "    </tr>\n",
       "    <tr>\n",
       "      <th>2</th>\n",
       "      <td>4100003</td>\n",
       "      <td>Customer#004100003</td>\n",
       "      <td>OdFvPvPc7Bv0DSHm</td>\n",
       "      <td>7</td>\n",
       "      <td>17-166-379-4908</td>\n",
       "      <td>9019.43</td>\n",
       "      <td>MACHINERY</td>\n",
       "      <td>ly final packages can cajole bold instructions...</td>\n",
       "    </tr>\n",
       "    <tr>\n",
       "      <th>3</th>\n",
       "      <td>4100004</td>\n",
       "      <td>Customer#004100004</td>\n",
       "      <td>lTMvYGd,z CrsIBUFl5</td>\n",
       "      <td>14</td>\n",
       "      <td>24-299-747-3519</td>\n",
       "      <td>7606.59</td>\n",
       "      <td>FURNITURE</td>\n",
       "      <td>y excuses. furiously regular i</td>\n",
       "    </tr>\n",
       "    <tr>\n",
       "      <th>4</th>\n",
       "      <td>4100005</td>\n",
       "      <td>Customer#004100005</td>\n",
       "      <td>s4B19i lP1qOD</td>\n",
       "      <td>22</td>\n",
       "      <td>32-190-295-5100</td>\n",
       "      <td>-33.37</td>\n",
       "      <td>FURNITURE</td>\n",
       "      <td>rding to the unusual ideas. slyly expr</td>\n",
       "    </tr>\n",
       "  </tbody>\n",
       "</table>\n",
       "</div>"
      ],
      "text/plain": [
       "   C_CUSTKEY              C_NAME                              C_ADDRESS  \\\n",
       "0    4100001  Customer#004100001                           cwYCpitc8dCU   \n",
       "1    4100002  Customer#004100002  OfamzjvUsg2l8YkWC9m17OeUvqMetJzWdiZPw   \n",
       "2    4100003  Customer#004100003                       OdFvPvPc7Bv0DSHm   \n",
       "3    4100004  Customer#004100004                    lTMvYGd,z CrsIBUFl5   \n",
       "4    4100005  Customer#004100005                          s4B19i lP1qOD   \n",
       "\n",
       "   C_NATIONKEY          C_PHONE  C_ACCTBAL C_MKTSEGMENT  \\\n",
       "0           13  23-947-805-6145    8064.52    MACHINERY   \n",
       "1           19  29-261-166-7418    7478.85    FURNITURE   \n",
       "2            7  17-166-379-4908    9019.43    MACHINERY   \n",
       "3           14  24-299-747-3519    7606.59    FURNITURE   \n",
       "4           22  32-190-295-5100     -33.37    FURNITURE   \n",
       "\n",
       "                                           C_COMMENT  \n",
       "0          inal requests use blithely along the regu  \n",
       "1  osits integrate carefully ironic, bold instruc...  \n",
       "2  ly final packages can cajole bold instructions...  \n",
       "3                     y excuses. furiously regular i  \n",
       "4             rding to the unusual ideas. slyly expr  "
      ]
     },
     "execution_count": 59,
     "metadata": {},
     "output_type": "execute_result"
    }
   ],
   "source": [
    "df = client.get_dataset('rpdf')\n",
    "df.head()"
   ]
  },
  {
   "cell_type": "markdown",
   "metadata": {},
   "source": [
    "### Some screen capture for the blog post\n",
    "![Dask Dashboard](dask-dashboard.png)"
   ]
  },
  {
   "cell_type": "markdown",
   "metadata": {},
   "source": [
    "![Dask Workers Dashboard](dask-dashboard-workers.png)"
   ]
  },
  {
   "cell_type": "markdown",
   "metadata": {},
   "source": [
    "![Dask executor-pods](dask-executor-pods.png)"
   ]
  },
  {
   "cell_type": "markdown",
   "metadata": {},
   "source": [
    "![Snowflake Dashboard](snowflake-query-history.png)"
   ]
  },
  {
   "cell_type": "code",
   "execution_count": null,
   "metadata": {},
   "outputs": [],
   "source": []
  }
 ],
 "metadata": {
  "kernelspec": {
   "display_name": "Python [conda env:root] *",
   "language": "python",
   "name": "conda-root-py"
  },
  "language_info": {
   "codemirror_mode": {
    "name": "ipython",
    "version": 3
   },
   "file_extension": ".py",
   "mimetype": "text/x-python",
   "name": "python",
   "nbconvert_exporter": "python",
   "pygments_lexer": "ipython3",
   "version": "3.7.6"
  }
 },
 "nbformat": 4,
 "nbformat_minor": 4
}
